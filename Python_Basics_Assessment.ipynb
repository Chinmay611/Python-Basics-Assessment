{
  "nbformat": 4,
  "nbformat_minor": 0,
  "metadata": {
    "colab": {
      "provenance": []
    },
    "kernelspec": {
      "name": "python3",
      "display_name": "Python 3"
    },
    "language_info": {
      "name": "python"
    }
  },
  "cells": [
    {
      "cell_type": "markdown",
      "source": [
        "**Python Basics Questions**"
      ],
      "metadata": {
        "id": "WICpvTfqyXAL"
      }
    },
    {
      "cell_type": "markdown",
      "source": [
        "1. What is Python, and why is it popular?\n",
        "\n",
        "Ans: Python is a programming language that is interpreted, object-oriented, and considered to be high-level too. Python is one of the easiest yet most useful programming languages which is widely used in the software industry. People use Python for Competitive Programming, Web Development, and creating software. Due to its easiest syntax, it is recommended for beginners who are new to the software engineering field. Its demand is growing at a very rapid pace due to its vast use cases in Modern Technological fields like Data Science, Machine learning, and Automation Tasks.\n",
        "\n",
        "Why it is popular?\n",
        "As we know Python, the high-level, versatile programming language, has witnessed an unprecedented surge in popularity over the years. From web development to data science and artificial intelligence, Python has become the go-to language for developers, data scientists, and engineers alike.\n",
        "\n",
        "Top Factors of Python Popularity\n",
        "It can be attributed to a combination of factors that make it a versatile and widely adopted programming language across various domains.Python's popularity extends beyond being just another programming language. Its widespread adoption is pivotal to various industries and domains. The language's simplicity and versatility have made it accessible to beginners while offering advanced capabilities for seasoned developers. In this exploration, we unravel the reasons behind Python's meteoric rise to prominence. Here are some of the top factors contributing to Python's popularity\n",
        "\n",
        "Ease of Learning and Readability\n",
        "Simple Syntax: One of Python's defining features is its clean and straightforward syntax. The language's readability is accentuated by the use of indentation instead of braces, making code blocks visually distinct. Python's design philosophy, encapsulated in the \"Zen of Python,\" emphasizes clarity and simplicity, contributing to a gentle learning curve.\n",
        "\n",
        "Code Readability: Python code is designed to be human-readable, a quality that aligns with the belief that code is read more often than it is written. The language enforces a consistent coding style through its PEP 8 (Python Enhancement Proposal) guidelines, promoting uniformity across projects. This readability-centric approach reduces errors, enhances collaboration, and facilitates maintenance.\n",
        "\n",
        "Beginner-Friendly Nature: Python's readability and simplicity make it an ideal choice for programming novices. Its syntax, resembling pseudo-code, allows beginners to focus on problem-solving rather than grappling with complex syntax rules. A thriving community, coupled with an abundance of learning resources, further supports newcomers in their journey to becoming proficient Python developers.\n",
        "\n",
        "General-Purpose Language: Python's versatility stems from its status as a general-purpose programming language. From web development to scientific computing, machine learning to automation, Python finds application in diverse domains. This general-purpose nature contributes to its widespread adoption, as developers can leverage Python for a myriad of tasks."
      ],
      "metadata": {
        "id": "TbctRQRE0YP-"
      }
    },
    {
      "cell_type": "markdown",
      "source": [
        "2.  What is an interpreter in Python?\n",
        "\n",
        "Ans: A Python interpreter is a program that executes Python code. Python is an interpreted language, meaning that it executes code line by line, rather than compiling the entire code into machine language before execution. This allows for more flexibility and ease of debugging, as errors can be caught and corrected on the fly.\n"
      ],
      "metadata": {
        "id": "y6r2Zt-X0XOv"
      }
    },
    {
      "cell_type": "markdown",
      "source": [
        "3.  What are pre-defined keywords in Python?\n",
        "\n",
        "Ans: Keywords in Python are reserved words that have special meanings and serve specific purposes in the language syntax. Python keywords cannot be used as the names of variables, functions, and classes or any other identifier.\n",
        "The list of keywords are:\n",
        "'False', 'None', 'True','and', 'as', 'assert', 'async', 'await', 'break',\n",
        "'class', 'continue', 'def', 'del', 'elif', 'else', 'except', 'finally', 'for', 'from', 'global', 'if',\n",
        "'import', 'in', 'is', 'lambda', 'nonlocal', 'not', 'or', 'pass', 'raise', 'return', 'try', 'while', 'with', 'yield'"
      ],
      "metadata": {
        "id": "Smn6kTmp1rGP"
      }
    },
    {
      "cell_type": "markdown",
      "source": [
        "4.  Can keywords be used as variable names?\n",
        "\n",
        "Ans: Python keywords are reserved words that have special meanings and cannot be used as identifiers, such as variable names, function names, or class names. These keywords are fundamental building blocks of Python syntax. All the keywords in Python are written in lowercase except True and False. There are 35 keywords in Python"
      ],
      "metadata": {
        "id": "o0udqzoL1q_s"
      }
    },
    {
      "cell_type": "markdown",
      "source": [
        "5.  What is mutability in Python?\n",
        "\n",
        "Ans: In Python, mutability refers to the ability of an object to be changed after it is created. Objects in Python objects can be classified into two categories: mutable and immutable.\n",
        "\n",
        "Examples: lists, sets & dictionaries are mutable, we can add, delete & modify its contents."
      ],
      "metadata": {
        "id": "Gvvp8Z7-1q6o"
      }
    },
    {
      "cell_type": "markdown",
      "source": [
        "6.  Why are lists mutable, but tuples are immutable?\n",
        "\n",
        "Ans: Lists: These are mutable, meaning you can change their content after creation. You can add, remove, or modify elements in a list. This flexibility makes lists ideal for situations where the size or content of the data might change frequently.\n",
        "\n",
        "Tuples: These are immutable, meaning once they're created, they cannot be changed. This immutability can be useful for several reasons:\n",
        "\n",
        "Safety: If you have a collection of data that you don't want to be accidentally modified, tuples provide a way to protect that data.\n",
        "\n",
        "Performance: Tuples can be faster than lists. Since their size and content don't change, Python can make certain optimizations.\n",
        "\n",
        "Hashable: Because tuples are immutable, they can be used as keys in dictionaries, whereas lists cannot be used as keys.\n",
        "\n",
        "**Imagine you're packing a suitcase (list) for a trip. You can easily add or remove items as you remember them, like throwing in an extra pair of socks or taking out a bulky sweater. This flexibility is what makes lists mutable in Python—they allow you to change their content even after they've been created.**\n",
        "\n",
        "**On the other hand, think of a framed photograph (tuple). Once the photo is printed and placed in the frame, you can't change the image without reprinting it entirely. This immutability provides stability and ensures that the picture remains unchanged. In Python, tuples are like that framed photograph—they are immutable, meaning once you create a tuple, you cannot change its elements. This quality makes tuples safer for storing data that shouldn't be modified and allows Python to optimize their performance.**\n",
        "\n",
        "**In essence, lists are great when you need flexibility, while tuples offer reliability and efficiency for fixed data.**"
      ],
      "metadata": {
        "id": "eErPQDJ31q2F"
      }
    },
    {
      "cell_type": "markdown",
      "source": [
        "7.  What is the difference between “==” and “is” operators in Python?\n",
        "\n",
        "Ans: In Python, the == and is operators are used to compare objects, but they do so in different ways:\n",
        "\n",
        "**== (Equality Operator):**\n",
        "\n",
        "Compares the values of two objects.\n",
        "Returns True if the values are equal, False otherwise.\n",
        "Use == when you want to check if two objects have the same value.\n",
        "\n",
        "**is (Identity Operator):**\n",
        "\n",
        "Compares the memory addresses (identities) of two objects.\n",
        "Returns True if both variables refer to the same object in memory, False otherwise.\n",
        "Use is when you want to check if two variables refer to the exact same object in memory."
      ],
      "metadata": {
        "id": "Q6HTmRJf1qyI"
      }
    },
    {
      "cell_type": "markdown",
      "source": [
        "8:  What are logical operators in Python?\n",
        "\n",
        "Ans: Logical Operators in Python\n",
        "\n",
        "Logical operators in Python are used to combine or negate boolean expressions. They allow you to create more complex conditions within your code. Here's a breakdown:\n",
        "\n",
        "**and:**\n",
        "Returns True if both operands are True, otherwise returns False.\n",
        "Example: True and True returns True, True and False returns False\n",
        "\n",
        "**or:**\n",
        "Returns True if at least one of the operands is True, otherwise returns False.\n",
        "Example: True or False returns True, False or False returns False\n",
        "\n",
        "**not:**\n",
        "Reverses the boolean value of its operand.\n",
        "Example: not True returns False, not False returns True"
      ],
      "metadata": {
        "id": "k0JAEJot1puv"
      }
    },
    {
      "cell_type": "markdown",
      "source": [
        "9. What is type casting in Python?\n",
        "\n",
        "Ans: Type casting, also known as type conversion, is the process of changing the data type of a variable from one to another. Python provides built-in functions to perform this operation:\n",
        "\n",
        "int(): Converts a value to an integer.\n",
        "float(): Converts a value to a floating-point number.\n",
        "str(): Converts a value to a string.\n",
        "bool(): Converts a value to a boolean (True or False).\n",
        "\n",
        "Examples:\n",
        "\n",
        "int():\n",
        "int(3.14) will convert 3.14 to the integer 3.\n",
        "int(\"10\") will convert the string \"10\" to the integer 10.\n",
        "\n",
        "float():\n",
        "float(5) will convert the integer 5 to the float 5.0.\n",
        "float(\"3.14\") will convert the string \"3.14\" to the float 3.14.\n",
        "\n",
        "str():\n",
        "str(10) will convert the integer 10 to the string \"10\".\n",
        "str(3.14) will convert the float 3.14 to the string \"3.14\".\n",
        "\n",
        "bool():\n",
        "bool(0) will return False.\n",
        "bool(1) will return True.\n",
        "bool(\"\") (empty string) will return False.\n",
        "bool(\"any text\") will return True.\n",
        "\n",
        "**Note**\n",
        "\n",
        "Type casting may result in data loss. For example, converting a float to an integer will truncate the decimal part.\n",
        "Not all conversions are possible. For instance, converting a string like \"hello\" to an integer will raise an error."
      ],
      "metadata": {
        "id": "pNsyZzM87vD9"
      }
    },
    {
      "cell_type": "markdown",
      "source": [
        "10.  What is the difference between implicit and explicit type casting?\n",
        "\n",
        "Ans: 1. Implicit Type Casting (Automatic Type Conversion)\n",
        "Python automatically converts one data type to another without the programmer explicitly specifying it.\n",
        "\n",
        "**Example:**\n",
        "When you add an integer to a float, Python automatically converts the integer to a float before performing the addition.\n",
        "a=5 #integer\n",
        "b=1.5 #float\n",
        "c=a+b   **#c will be float**\n",
        "\n",
        "2. Explicit Type Casting (Manual Type Conversion)\n",
        "The programmer explicitly uses built-in functions (like int(), float(), str(), bool()) to convert data types.\n",
        "\n",
        "**Example:**\n",
        "Converting a string to an integer:\n",
        "my_string = \"10\"\n",
        "my_number = int(my_string)  **#my_number will be the integer 10**\n"
      ],
      "metadata": {
        "id": "w3RQV_q47u-S"
      }
    },
    {
      "cell_type": "markdown",
      "source": [
        "11.  What is the purpose of conditional statements in Python?\n",
        "\n",
        "Ans: Conditional statements in Python are crucial for controlling the flow of your program's execution. They allow you to make decisions based on specific conditions and execute different blocks of code accordingly.\n",
        "\n",
        "**Key Purposes:**\n",
        "\n",
        "**Control Program Flow:**\n",
        "Determine which parts of the code should be executed and which should be skipped based on certain conditions.\n",
        "\n",
        "Prevent unintended behavior or errors by checking for valid inputs or states.\n",
        "Make Decisions:\n",
        "Implement logic based on different scenarios or user inputs.\n",
        "Create complex algorithms that adapt to varying circumstances.\n",
        "\n",
        "Improve Code Readability:\n",
        "Organize code into more manageable and understandable blocks.\n",
        "Make it easier to maintain and debug by clearly separating different execution paths.\n",
        "\n",
        "Common Conditional Statements in Python:\n",
        "if: Executes a block of code if a condition is True.\n",
        "if-else: Executes one block of code if a condition is True, and another block if it's False.\n",
        "elif: Adds additional conditions to an if-else statement to handle multiple possibilities."
      ],
      "metadata": {
        "id": "WvLecdpZ7u2i"
      }
    },
    {
      "cell_type": "markdown",
      "source": [
        "12: How does the elif statement work?\n",
        "\n",
        "Ans: The elif statement in Python is used to check for multiple conditions sequentially. It's short for \"else if\" and provides a way to execute different blocks of code based on various conditions.\n",
        "\n",
        "Workflow:\n",
        "\n",
        "1. if statement: The initial if statement checks its condition. If the condition is True, the code block within the if statement is executed, and the rest of the elif and else blocks are skipped.\n",
        "\n",
        "2. elif statements (optional): If the if condition is False, the elif statements are checked in order.\n",
        "Each elif statement has its own condition.\n",
        "If an elif condition is True, the corresponding code block is executed, and the remaining elif and else blocks are skipped.\n",
        "\n",
        "3. else statement (optional): If none of the if or elif conditions are True, the code within the else block is executed."
      ],
      "metadata": {
        "id": "cs0Oo2--7uuo"
      }
    },
    {
      "cell_type": "markdown",
      "source": [
        "13.  What is the difference between for and while loops?\n",
        "\n",
        "Ans: Okay, let's break down the difference between for and while loops in a way that's easy to understand.\n",
        "\n",
        "Imagine you have a box of chocolates:\n",
        "\n",
        "for loop: This is like saying, \"I will eat one chocolate at a time until the box is empty.\"\n",
        "\n",
        "You know exactly how many chocolates are in the box (the sequence is defined).\n",
        "You take one chocolate, enjoy it, and then move on to the next.\n",
        "while loop: This is more like saying, \"I will eat chocolates until I feel full.\"\n",
        "\n",
        "You don't know exactly how many chocolates you'll eat.\n",
        "You eat a chocolate, check if you're full, and if not, you eat another.\n",
        "\n",
        "Here's an analogy using code:\n",
        "for loop:\n",
        "\n",
        "**Python code**\n",
        "\n",
        "fruits = [\"apple\", \"banana\", \"cherry\"]\n",
        "for fruit in fruits:\n",
        "    print(fruit)\n",
        "This loop iterates through each fruit in the fruits list.\n",
        "You know you have three fruits to eat (the sequence is defined).\n",
        "\n",
        "while loop:\n",
        "\n",
        "**Python Code**\n",
        "\n",
        "count = 0\n",
        "while count < 5:\n",
        "    print(count)\n",
        "    count = count + 1\n",
        "This loop continues as long as count is less than 5.\n",
        "You don't know how many times the loop will run until the condition (count < 5) becomes False.\n",
        "\n",
        "Key takeaway:\n",
        "for loops are great for situations where you have a sequence of items to process.\n",
        "while loops are better suited for situations where you need to repeat something until a certain condition is met."
      ],
      "metadata": {
        "id": "2Ihc4sAQ7umI"
      }
    },
    {
      "cell_type": "markdown",
      "source": [
        "14.  Describe a scenario where a while loop is more suitable than a for loop?\n",
        "\n",
        "Ans: The Guessing Game\n",
        "\n",
        "Imagine you're creating a simple number-guessing game. The computer picks a random number, and the player has to guess it.\n",
        "\n",
        "Why while is better:\n",
        "\n",
        "Unknown Number of Guesses: You don't know how many attempts the player will need to guess the correct number.\n",
        "\n",
        "Flexibility: A while loop can easily handle an indefinite number of guesses.\n",
        "\n",
        "Clearer Logic: The loop's condition directly reflects the game's core rule: continue guessing until the correct number is found.\n",
        "\n",
        "Example (Simplified):\n",
        "\n",
        "import random\n",
        "\n",
        "secret_number = random.randint(1, 100)\n",
        "guess = 0\n",
        "\n",
        "while guess != secret_number:\n",
        "    guess = int(input(\"Enter your guess: \"))\n",
        "\n",
        "print(\"Congratulations! You guessed the number!\")\n",
        "Why for might be less suitable:\n",
        "\n",
        "Unpredictable Iterations: A for loop typically iterates a fixed number of times. In this game, the number of guesses is unpredictable.\n",
        "Potential for Infinite Loops: If you used a for loop with an arbitrary number of iterations, you might end up with an infinite loop if the player doesn't guess correctly within that limit.\n",
        "Key takeaway:\n",
        "\n",
        "This scenario demonstrates how while loops excel when the number of repetitions is uncertain and depends on a condition that may change during the loop's execution, making them a valuable tool for beginners to learn and apply"
      ],
      "metadata": {
        "id": "ySkFtXjVD_6u"
      }
    },
    {
      "cell_type": "markdown",
      "source": [
        "# PRACTICAL QUESTIONS"
      ],
      "metadata": {
        "id": "w-kKZi2fIKE0"
      }
    },
    {
      "cell_type": "markdown",
      "source": [
        "1. Write a Python program to print \"Hello, World!\n"
      ],
      "metadata": {
        "id": "kymw71D-IWvZ"
      }
    },
    {
      "cell_type": "code",
      "source": [
        "print(\"Hello, World!\")"
      ],
      "metadata": {
        "colab": {
          "base_uri": "https://localhost:8080/"
        },
        "id": "fH3e_l4aIaTn",
        "outputId": "ba1296f9-9f5a-47cc-8e17-17363fae32cd"
      },
      "execution_count": null,
      "outputs": [
        {
          "output_type": "stream",
          "name": "stdout",
          "text": [
            "Hello, World!\n"
          ]
        }
      ]
    },
    {
      "cell_type": "markdown",
      "source": [
        "2.  Write a Python program that displays your name and age?"
      ],
      "metadata": {
        "id": "Yb_orYpHIhcQ"
      }
    },
    {
      "cell_type": "code",
      "source": [
        "name= input(\"Enter your name: \")\n",
        "age= input(\"Enter your age: \")\n",
        "print(\"The name of person is: \", name, \"and age is:\", age)"
      ],
      "metadata": {
        "colab": {
          "base_uri": "https://localhost:8080/"
        },
        "id": "np6X1v1gIf6s",
        "outputId": "2073c726-ab0b-4fad-d832-28f6bac2209f"
      },
      "execution_count": null,
      "outputs": [
        {
          "output_type": "stream",
          "name": "stdout",
          "text": [
            "Enter your name: Chinmay\n",
            "Enter your age: 26\n",
            "The name of person is:  Chinmay and age is: 26\n"
          ]
        }
      ]
    },
    {
      "cell_type": "markdown",
      "source": [
        "3.  Write code to print all the pre-defined keywords in Python using the keyword library\n"
      ],
      "metadata": {
        "id": "0yVPTsD-JNSk"
      }
    },
    {
      "cell_type": "code",
      "source": [
        "import keyword\n",
        "print(\"All keywords are below:\", keyword.kwlist)\n"
      ],
      "metadata": {
        "colab": {
          "base_uri": "https://localhost:8080/"
        },
        "id": "9dzcLR6LJBWb",
        "outputId": "d0a0e4b9-cda2-4c1c-ae4d-63f934a5eb66"
      },
      "execution_count": null,
      "outputs": [
        {
          "output_type": "stream",
          "name": "stdout",
          "text": [
            "All keywords are below: ['False', 'None', 'True', 'and', 'as', 'assert', 'async', 'await', 'break', 'class', 'continue', 'def', 'del', 'elif', 'else', 'except', 'finally', 'for', 'from', 'global', 'if', 'import', 'in', 'is', 'lambda', 'nonlocal', 'not', 'or', 'pass', 'raise', 'return', 'try', 'while', 'with', 'yield'] \n",
            "\n"
          ]
        }
      ]
    },
    {
      "cell_type": "markdown",
      "source": [
        "4.  Write a program that checks if a given word is a Python keyword\n"
      ],
      "metadata": {
        "id": "2O8jzIoaKQQY"
      }
    },
    {
      "cell_type": "code",
      "source": [
        "import keyword\n",
        "\n",
        "word = input(\"Enter a word: \")\n",
        "\n",
        "if word in keyword.kwlist:\n",
        "  print(f\"'{word}' is a Python keyword.\")\n",
        "else:\n",
        "  print(f\"'{word}' is not a Python keyword.\")"
      ],
      "metadata": {
        "colab": {
          "base_uri": "https://localhost:8080/"
        },
        "id": "l8oo78DmJ4ts",
        "outputId": "11855890-12a0-435f-a002-eb7b6775b9ae"
      },
      "execution_count": null,
      "outputs": [
        {
          "output_type": "stream",
          "name": "stdout",
          "text": [
            "Enter a word: True\n",
            "'True' is a Python keyword.\n"
          ]
        }
      ]
    },
    {
      "cell_type": "markdown",
      "source": [
        "5. Create a list and tuple in Python, and demonstrate how attempting to change an element works differently for each.\n"
      ],
      "metadata": {
        "id": "Bz7OYxkC0hFC"
      }
    },
    {
      "cell_type": "code",
      "source": [
        "# Creating a list\n",
        "my_list = [1, 2, 3]\n",
        "print(\"Original List:\", my_list)\n",
        "\n",
        "# Changing an element in the list\n",
        "my_list[1] = 5\n",
        "print(\"Modified List:\", my_list)\n",
        "\n",
        "# Creating a tuple\n",
        "my_tuple = (1, 2, 3)\n",
        "print(\"\\nOriginal Tuple:\", my_tuple)\n",
        "\n",
        "#tuple can not be modified as these are immutable\n",
        "# Trying to change an element in the tuple (will result in an error)"
      ],
      "metadata": {
        "colab": {
          "base_uri": "https://localhost:8080/"
        },
        "id": "L3t5R3hC0N2t",
        "outputId": "0499b318-d675-4f37-d261-7f85a1878404"
      },
      "execution_count": null,
      "outputs": [
        {
          "output_type": "stream",
          "name": "stdout",
          "text": [
            "Original List: [1, 2, 3]\n",
            "Modified List: [1, 5, 3]\n",
            "\n",
            "Original Tuple: (1, 2, 3)\n"
          ]
        }
      ]
    },
    {
      "cell_type": "markdown",
      "source": [
        "6.  Write a function to demonstrate the behavior of mutable and immutable arguments\n"
      ],
      "metadata": {
        "id": "YW1RfAyf2dAH"
      }
    },
    {
      "cell_type": "code",
      "source": [
        "def modify_list(my_list):\n",
        "  \"\"\"\n",
        "  This function demonstrates how lists (mutable) are affected within a function.\n",
        "\n",
        "  Args:\n",
        "    my_list: A list of numbers.\n",
        "\n",
        "  This function adds the number 4 to the end of the list.\n",
        "  \"\"\"\n",
        "  my_list.append(4)\n",
        "  print(\"Inside the function, my_list is:\", my_list)\n",
        "\n",
        "def modify_number(my_number):\n",
        "  \"\"\"\n",
        "  This function demonstrates how numbers (immutable) are affected within a function.\n",
        "\n",
        "  Args:\n",
        "    my_number: An integer.\n",
        "\n",
        "  This function tries to change the value of my_number.\n",
        "  \"\"\"\n",
        "  my_number = my_number + 1\n",
        "  print(\"Inside the function, my_number is:\", my_number)\n",
        "\n",
        "# Let's try with a list (mutable)\n",
        "my_list = [1, 2, 3]\n",
        "print(\"Before calling the function, my_list is:\", my_list)\n",
        "modify_list(my_list)\n",
        "print(\"After calling the function, my_list is:\", my_list)\n",
        "\n",
        "print(\"\\n\")\n",
        "\n",
        "# Let's try with a number (immutable)\n",
        "my_number = 5\n",
        "print(\"Before calling the function, my_number is:\", my_number)\n",
        "modify_number(my_number)\n",
        "print(\"After calling the function, my_number is:\", my_number)"
      ],
      "metadata": {
        "colab": {
          "base_uri": "https://localhost:8080/"
        },
        "id": "vSzAPIFI08qh",
        "outputId": "2e2016ef-b0b4-452e-82ef-9ac66a27eff4"
      },
      "execution_count": null,
      "outputs": [
        {
          "output_type": "stream",
          "name": "stdout",
          "text": [
            "Before calling the function, my_list is: [1, 2, 3]\n",
            "Inside the function, my_list is: [1, 2, 3, 4]\n",
            "After calling the function, my_list is: [1, 2, 3, 4]\n",
            "\n",
            "\n",
            "Before calling the function, my_number is: 5\n",
            "Inside the function, my_number is: 6\n",
            "After calling the function, my_number is: 5\n"
          ]
        }
      ]
    },
    {
      "cell_type": "markdown",
      "source": [
        "7. Write a function to demonstrate the behavior of mutable and immutable arguments"
      ],
      "metadata": {
        "id": "2TDEV8Z63WV9"
      }
    },
    {
      "cell_type": "code",
      "source": [
        "def modify_list(my_list):\n",
        "  \"\"\"\n",
        "  This function demonstrates how lists (mutable) are affected within a function.\n",
        "\n",
        "  Args:\n",
        "    my_list: A list of numbers.\n",
        "\n",
        "  This function adds the number 4 to the end of the list.\n",
        "  \"\"\"\n",
        "  my_list.append(4)\n",
        "  print(\"Inside the function, my_list is:\", my_list)\n",
        "\n",
        "def modify_number(my_number):\n",
        "  \"\"\"\n",
        "  This function demonstrates how numbers (immutable) are affected within a function.\n",
        "\n",
        "  Args:\n",
        "    my_number: An integer.\n",
        "\n",
        "  This function tries to change the value of my_number.\n",
        "  \"\"\"\n",
        "  my_number = my_number + 1\n",
        "  print(\"Inside the function, my_number is:\", my_number)\n",
        "\n",
        "# Let's try with a list (mutable)\n",
        "my_list = [1, 2, 3]\n",
        "print(\"Before calling the function, my_list is:\", my_list)\n",
        "modify_list(my_list)\n",
        "print(\"After calling the function, my_list is:\", my_list)\n",
        "\n",
        "print(\"\\n\")\n",
        "\n",
        "# Let's try with a number (immutable)\n",
        "my_number = 5\n",
        "print(\"Before calling the function, my_number is:\", my_number)\n",
        "modify_number(my_number)\n",
        "print(\"After calling the function, my_number is:\", my_number)"
      ],
      "metadata": {
        "colab": {
          "base_uri": "https://localhost:8080/"
        },
        "id": "nRiC2QZP3DIV",
        "outputId": "a64b84f4-3e21-44e3-b203-7a5b1a950ad7"
      },
      "execution_count": null,
      "outputs": [
        {
          "output_type": "stream",
          "name": "stdout",
          "text": [
            "Before calling the function, my_list is: [1, 2, 3]\n",
            "Inside the function, my_list is: [1, 2, 3, 4]\n",
            "After calling the function, my_list is: [1, 2, 3, 4]\n",
            "\n",
            "\n",
            "Before calling the function, my_number is: 5\n",
            "Inside the function, my_number is: 6\n",
            "After calling the function, my_number is: 5\n"
          ]
        }
      ]
    },
    {
      "cell_type": "markdown",
      "source": [
        "8.  Write a program to demonstrate the use of logical operators"
      ],
      "metadata": {
        "id": "5V46RlMx3ciz"
      }
    },
    {
      "cell_type": "code",
      "source": [
        "#Checks if a person is eligible to drive based on age, license, and insurance\n",
        "\n",
        "age= int(input(\"Enter your age: \"))\n",
        "if age >= 18:\n",
        "  print(\"You are eligible to drive as per your age.\\n\")\n",
        "  license= input(\"Now let me know do you have a license? (yes/no): \")\n",
        "  if license == \"yes\" or license ==\"Yes\":\n",
        "    insurance= input(\"Do you have insurance? (yes/no): \")\n",
        "    if insurance == \"yes\" or insurance ==\"Yes\":\n",
        "     print(\"You are eligible to drive as per safety guidelines.\\n\")\n",
        "    else:\n",
        "     print(\"You are not eligible to drive as per safety guidelines.\\n\")\n",
        "  else:\n",
        "    print(\"You are not eligible to drive due to lack of valid license\\n\")\n",
        "else:\n",
        "  print(\"You are not eligible to drive.\")\n"
      ],
      "metadata": {
        "colab": {
          "base_uri": "https://localhost:8080/"
        },
        "id": "ZWTTuxkJ3biJ",
        "outputId": "e3439736-d977-4f0d-fa1b-426c3c5bf695"
      },
      "execution_count": null,
      "outputs": [
        {
          "output_type": "stream",
          "name": "stdout",
          "text": [
            "Enter your age: 18\n",
            "You are eligible to drive as per your age.\n",
            "\n",
            "Now let me know do you have a license? (yes/no): yes\n",
            "Do you have insurance? (yes/no): no\n",
            "You are not eligible to drive as per safety guidelines.\n",
            "\n"
          ]
        }
      ]
    },
    {
      "cell_type": "markdown",
      "source": [
        "9.  Write a Python program to convert user input from string to integer, float, and boolean types\n"
      ],
      "metadata": {
        "id": "jmQyq1gx68B9"
      }
    },
    {
      "cell_type": "code",
      "source": [
        "user_input= input(str(\"Enter a value: \")) #input from user\n",
        "integer_value= int(user_input)\n",
        "float_value= float(user_input)\n",
        "boolean_value= bool(user_input)\n",
        "\n",
        "print(type(user_input))\n",
        "print(\"User Input:\", user_input)\n",
        "print(\"Integer Value:\", integer_value)\n",
        "print(\"Float Value:\", float_value)\n",
        "print(\"Boolean Value:\", boolean_value)"
      ],
      "metadata": {
        "colab": {
          "base_uri": "https://localhost:8080/"
        },
        "id": "IEzYELaM4jyn",
        "outputId": "15d1dee3-2875-4250-d6d7-bf649868c596"
      },
      "execution_count": null,
      "outputs": [
        {
          "output_type": "stream",
          "name": "stdout",
          "text": [
            "Enter a value: 10\n",
            "<class 'str'>\n",
            "User Input: 10\n",
            "Integer Value: 10\n",
            "Float Value: 10.0\n",
            "Boolean Value: True\n"
          ]
        }
      ]
    },
    {
      "cell_type": "markdown",
      "source": [
        "10. Write code to demonstrate type casting with list elements\n"
      ],
      "metadata": {
        "id": "j_73Hhny-2xS"
      }
    },
    {
      "cell_type": "code",
      "source": [
        "my_list= [1.1, \"2.2\", 3.3, \"4.4\"] #defined list\n",
        "\n",
        "print(\"Original List: \", my_list)\n",
        "\n",
        "\n",
        "float_list= [float(x) for x in my_list]\n",
        "print(\"List of Floats: \", float_list)"
      ],
      "metadata": {
        "colab": {
          "base_uri": "https://localhost:8080/"
        },
        "id": "RrsxYHX0-m56",
        "outputId": "10e35afa-7f3e-4f9e-9e26-dd179744ba33"
      },
      "execution_count": null,
      "outputs": [
        {
          "output_type": "stream",
          "name": "stdout",
          "text": [
            "Original List:  [1.1, '2.2', 3.3, '4.4']\n",
            "List of Floats:  [1.1, 2.2, 3.3, 4.4]\n"
          ]
        }
      ]
    },
    {
      "cell_type": "markdown",
      "source": [
        "11.  Write a program that checks if a number is positive, negative, or zero\n"
      ],
      "metadata": {
        "id": "1X_ZTmNGNOwX"
      }
    },
    {
      "cell_type": "code",
      "source": [
        "Num= int(input(\"Enter a number: \"))\n",
        "\n",
        "if Num > 0:\n",
        "  print(Num, \" is positive number\")\n",
        "elif Num < 0:\n",
        "    print(Num, \" is negative number\")\n",
        "else:\n",
        "    print(Num, \" is a zero value number\")\n"
      ],
      "metadata": {
        "colab": {
          "base_uri": "https://localhost:8080/"
        },
        "id": "H4-qFPAgBK-T",
        "outputId": "f47098a6-9a53-4178-b6ac-04cf110ce048"
      },
      "execution_count": null,
      "outputs": [
        {
          "output_type": "stream",
          "name": "stdout",
          "text": [
            "Enter a number: 5\n",
            "5  is positive number\n"
          ]
        }
      ]
    },
    {
      "cell_type": "markdown",
      "source": [
        "12.  Write a for loop to print numbers from 1 to 10\n"
      ],
      "metadata": {
        "id": "WHN6yx5IRAw8"
      }
    },
    {
      "cell_type": "code",
      "source": [
        "# prompt:  Write a for loop to print numbers from 1 to 10\n",
        "\n",
        "for i in range(1, 11):\n",
        "   print(i, \" \")\n"
      ],
      "metadata": {
        "colab": {
          "base_uri": "https://localhost:8080/"
        },
        "id": "RX-d4l7rBtMO",
        "outputId": "a3581b52-daa5-4512-af91-78fca17ce90a"
      },
      "execution_count": null,
      "outputs": [
        {
          "output_type": "stream",
          "name": "stdout",
          "text": [
            "1  \n",
            "2  \n",
            "3  \n",
            "4  \n",
            "5  \n",
            "6  \n",
            "7  \n",
            "8  \n",
            "9  \n",
            "10  \n"
          ]
        }
      ]
    },
    {
      "cell_type": "markdown",
      "source": [
        "13.  Write a Python program to find the sum of all even numbers between 1 and 50\n"
      ],
      "metadata": {
        "id": "mWxxccMKRgBV"
      }
    },
    {
      "cell_type": "code",
      "source": [
        "# prompt:  Write a Python program to find the sum of all even numbers between 1 and 50\n",
        "\n",
        "sum_of_evens = 0\n",
        "for i in range(2, 51, 2):\n",
        "  sum_of_evens += i\n",
        "\n",
        "print(\"The sum of all even numbers between 1 and 50 is:\", sum_of_evens)"
      ],
      "metadata": {
        "colab": {
          "base_uri": "https://localhost:8080/"
        },
        "id": "F7_LafqzB0zE",
        "outputId": "46b5c172-d3e6-493e-d289-f3a491378cfa"
      },
      "execution_count": null,
      "outputs": [
        {
          "output_type": "stream",
          "name": "stdout",
          "text": [
            "The sum of all even numbers between 1 and 50 is: 650\n"
          ]
        }
      ]
    },
    {
      "cell_type": "markdown",
      "source": [
        "14.  Write a program to reverse a string using a while loop"
      ],
      "metadata": {
        "id": "n-oUI_d0RwAz"
      }
    },
    {
      "cell_type": "code",
      "source": [
        "# prompt:  Write a program to reverse a string using a while loop\n",
        "\n",
        "def reverse_string_while(input_string):\n",
        "    reversed_string = \"\"\n",
        "    index = len(input_string) - 1\n",
        "    while index >= 0:\n",
        "        reversed_string += input_string[index]\n",
        "        index -= 1\n",
        "    return reversed_string\n",
        "\n",
        "# Example usage:\n",
        "string_to_reverse = \"hello\"\n",
        "reversed_string = reverse_string_while(string_to_reverse)\n",
        "print(f\"Reversed string: {reversed_string}\")"
      ],
      "metadata": {
        "colab": {
          "base_uri": "https://localhost:8080/"
        },
        "id": "wojAq-T2Rr4n",
        "outputId": "547ae113-2cf2-441f-c7d1-483004d37b0e"
      },
      "execution_count": null,
      "outputs": [
        {
          "output_type": "stream",
          "name": "stdout",
          "text": [
            "Reversed string: olleh\n"
          ]
        }
      ]
    },
    {
      "cell_type": "markdown",
      "source": [
        "15.  Write a Python program to calculate the factorial of a number provided by the user using a while loop.\n"
      ],
      "metadata": {
        "id": "w3aSAzcBSDsx"
      }
    },
    {
      "cell_type": "code",
      "source": [
        "# prompt:  Write a Python program to calculate the factorial of a number provided by the user using a while loop.\n",
        "\n",
        "def factorial_while(n):\n",
        "    if n < 0:\n",
        "        return \"Factorial is not defined for negative numbers\"\n",
        "    elif n == 0:\n",
        "        return 1\n",
        "    else:\n",
        "        fact = 1\n",
        "        i = 1\n",
        "        while i <= n:\n",
        "            fact *= i\n",
        "            i += 1\n",
        "        return fact\n",
        "\n",
        "# Get input from the user\n",
        "num = int(input(\"Enter a non-negative integer: \"))\n",
        "\n",
        "# Calculate and print the factorial\n",
        "result = factorial_while(num)\n",
        "print(f\"The factorial of {num} is {result}\")"
      ],
      "metadata": {
        "colab": {
          "base_uri": "https://localhost:8080/"
        },
        "id": "5i57mG3IR6hz",
        "outputId": "456ec55b-f488-403b-f6ea-eab7a931123b"
      },
      "execution_count": null,
      "outputs": [
        {
          "output_type": "stream",
          "name": "stdout",
          "text": [
            "Enter a non-negative integer: 5\n",
            "The factorial of 5 is 120\n"
          ]
        }
      ]
    },
    {
      "cell_type": "code",
      "source": [],
      "metadata": {
        "id": "EC3XaYOQSOQM"
      },
      "execution_count": null,
      "outputs": []
    }
  ]
}